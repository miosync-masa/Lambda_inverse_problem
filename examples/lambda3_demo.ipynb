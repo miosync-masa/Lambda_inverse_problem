{
 "cells": [
  {
   "cell_type": "markdown",
   "metadata": {},
   "source": [
    "# Lambda³ Zero-Shot Anomaly Detection Demo\n",
    "\n",
    "This notebook demonstrates the revolutionary Lambda³ anomaly detection system that achieves 93% AUC without any training data."
   ]
  },
  {
   "cell_type": "code",
   "execution_count": null,
   "metadata": {},
   "outputs": [],
   "source": [
    "# Cell 1: Installation and Setup\n",
    "!pip install numpy numba scikit-learn scipy matplotlib pandas\n",
    "\n",
    "# Clone or download the detector\n",
    "!wget https://raw.githubusercontent.com/yourusername/lambda3-anomaly-detection/main/lambda3_detector.py"
   ]
  },
  {
   "cell_type": "code",
   "execution_count": null,
   "metadata": {},
   "outputs": [],
   "source": [
    "# Cell 2: Import and Basic Usage\n",
    "import numpy as np\n",
    "from lambda3_detector import (\n",
    "    Lambda3ZeroShotDetector, \n",
    "    L3Config,\n",
    "    create_complex_natural_dataset\n",
    ")\n",
    "\n",
    "# Generate test data\n",
    "events, labels, anomaly_types = create_complex_natural_dataset(\n",
    "    n_events=500,\n",
    "    n_features=15,\n",
    "    anomaly_ratio=0.15\n",
    ")\n",
    "print(f\"Data shape: {events.shape}\")\n",
    "print(f\"Anomaly ratio: {np.mean(labels):.2%}\")\n",
    "print(f\"Anomaly types: {set(anomaly_types)}\")"
   ]
  },
  {
   "cell_type": "code",
   "execution_count": null,
   "metadata": {},
   "outputs": [],
   "source": [
    "# Cell 3: Run Detection\n",
    "# Initialize detector with optimized config\n",
    "config = L3Config(\n",
    "    alpha=0.05,\n",
    "    beta=0.005,\n",
    "    n_paths=7,\n",
    "    jump_scale=1.5,\n",
    "    w_topo=0.3,\n",
    "    w_pulse=0.2\n",
    ")\n",
    "detector = Lambda3ZeroShotDetector(config)\n",
    "\n",
    "# Analyze (no training needed!)\n",
    "result = detector.analyze(events)\n",
    "\n",
    "# Detect anomalies\n",
    "anomaly_scores = detector.detect_anomalies(result, events, use_adaptive_weights=False)\n",
    "\n",
    "# Calculate performance\n",
    "from sklearn.metrics import roc_auc_score\n",
    "auc = roc_auc_score(labels, anomaly_scores)\n",
    "print(f\"Zero-shot AUC: {auc:.4f}\")"
   ]
  },
  {
   "cell_type": "code",
   "execution_count": null,
   "metadata": {},
   "outputs": [],
   "source": [
    "# Cell 4: Visualize Results\n",
    "import matplotlib.pyplot as plt\n",
    "\n",
    "# Plot anomaly scores with better visualization\n",
    "plt.figure(figsize=(15, 6))\n",
    "\n",
    "# Subplot 1: Time series view\n",
    "plt.subplot(2, 1, 1)\n",
    "plt.plot(anomaly_scores, 'b-', alpha=0.7, linewidth=1, label='Anomaly Score')\n",
    "plt.scatter(np.where(labels)[0], anomaly_scores[labels==1], \n",
    "           color='red', s=50, alpha=0.8, label='True Anomalies', zorder=5)\n",
    "plt.axhline(y=2.0, color='orange', linestyle='--', alpha=0.5, label='Warning Threshold')\n",
    "plt.xlabel('Event Index')\n",
    "plt.ylabel('Anomaly Score')\n",
    "plt.title(f'Lambda³ Zero-Shot Detection (AUC: {auc:.3f})')\n",
    "plt.legend()\n",
    "plt.grid(True, alpha=0.3)\n",
    "\n",
    "# Subplot 2: Score distribution\n",
    "plt.subplot(2, 1, 2)\n",
    "plt.hist(anomaly_scores[labels==0], bins=50, alpha=0.7, label='Normal', density=True)\n",
    "plt.hist(anomaly_scores[labels==1], bins=50, alpha=0.7, label='Anomaly', density=True)\n",
    "plt.xlabel('Anomaly Score')\n",
    "plt.ylabel('Density')\n",
    "plt.title('Score Distribution by Class')\n",
    "plt.legend()\n",
    "\n",
    "plt.tight_layout()\n",
    "plt.show()"
   ]
  },
  {
   "cell_type": "code",
   "execution_count": null,
   "metadata": {},
   "outputs": [],
   "source": [
    "# Cell 5: Advanced Usage with All Modes\n",
    "# Basic mode (already computed above)\n",
    "print(f\"Basic Mode AUC: {auc:.4f}\")\n",
    "\n",
    "# Adaptive mode\n",
    "adaptive_scores = detector.detect_anomalies(result, events, use_adaptive_weights=True)\n",
    "adaptive_auc = roc_auc_score(labels, adaptive_scores)\n",
    "print(f\"Adaptive Mode AUC: {adaptive_auc:.4f}\")\n",
    "\n",
    "# Focused mode\n",
    "from lambda3_detector import Lambda3FocusedDetector\n",
    "focused_detector = Lambda3FocusedDetector()\n",
    "focused_scores = focused_detector.detect_anomalies(\n",
    "    result, events, \n",
    "    base_detector_func=lambda r, e: detector.detect_anomalies(r, e)\n",
    ")\n",
    "focused_auc = roc_auc_score(labels, focused_scores)\n",
    "print(f\"Focused Mode AUC: {focused_auc:.4f}\")\n",
    "\n",
    "# Top anomalies analysis\n",
    "best_scores = anomaly_scores if auc >= adaptive_auc else adaptive_scores\n",
    "top_10 = np.argsort(best_scores)[-10:]\n",
    "print(f\"\\nTop 10 detected anomalies: {top_10}\")\n",
    "print(f\"Precision@10: {np.sum(labels[top_10])}/10 = {np.mean(labels[top_10]):.1%}\")\n",
    "\n",
    "# Get explanations for top anomalies\n",
    "print(\"\\nTop 3 Anomaly Explanations:\")\n",
    "for i, idx in enumerate(top_10[-3:][::-1]):\n",
    "    explanation = detector.explain_anomaly(idx, result, events)\n",
    "    print(f\"\\n{i+1}. Event {idx}:\")\n",
    "    print(f\"   Score: {best_scores[idx]:.3f}\")\n",
    "    print(f\"   True Label: {'Anomaly' if labels[idx] else 'Normal'}\")\n",
    "    print(f\"   {explanation['recommendation']}\")"
   ]
  },
  {
   "cell_type": "code",
   "execution_count": null,
   "metadata": {},
   "outputs": [],
   "source": [
    "# Cell 6: Full Visualization (Optional)\n",
    "# Generate comprehensive visualization\n",
    "fig = detector.visualize_results(events, result, best_scores)\n",
    "plt.show()"
   ]
  }
 ],
 "metadata": {
  "kernelspec": {
   "display_name": "Python 3",
   "language": "python",
   "name": "python3"
  },
  "language_info": {
   "codemirror_mode": {
    "name": "ipython",
    "version": 3
   },
   "file_extension": ".py",
   "mimetype": "text/x-python",
   "name": "python",
   "nbconvert_exporter": "python",
   "pygments_lexer": "ipython3",
   "version": "3.8.0"
  }
 },
 "nbformat": 4,
 "nbformat_minor": 4
}
