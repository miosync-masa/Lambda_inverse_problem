# Cell 1: Installation and Setup
!pip install numpy numba scikit-learn scipy matplotlib

# Clone or download the detector
!wget https://raw.githubusercontent.com/miosync-masa/Lambda_inverse_problem/main/lambda3_detector.py

# Cell 2: Import and Basic Usage
import numpy as np
from lambda3_detector import Lambda3ZeroShotDetector, create_complex_natural_dataset

# Generate test data
events, labels, anomaly_types = create_complex_natural_dataset(
    n_events=500,
    n_features=15,
    anomaly_ratio=0.15
)

print(f"Data shape: {events.shape}")
print(f"Anomaly ratio: {np.mean(labels):.2%}")
print(f"Anomaly types: {set(anomaly_types)}")

# Cell 3: Run Detection
# Initialize detector
detector = Lambda3ZeroShotDetector()

# Analyze (no training needed!)
result = detector.analyze(events, n_paths=5)

# Detect anomalies
anomaly_scores = detector.detect_anomalies(result, events)

# Calculate performance
from sklearn.metrics import roc_auc_score
auc = roc_auc_score(labels, anomaly_scores)
print(f"Zero-shot AUC: {auc:.4f}")

# Cell 4: Visualize Results
import matplotlib.pyplot as plt

# Plot anomaly scores
plt.figure(figsize=(12, 4))
plt.plot(anomaly_scores, 'b-', alpha=0.7, label='Anomaly Score')
plt.scatter(np.where(labels)[0], anomaly_scores[labels==1], 
           color='red', s=50, label='True Anomalies')
plt.xlabel('Event Index')
plt.ylabel('Anomaly Score')
plt.title(f'Lambda³ Zero-Shot Detection (AUC: {auc:.3f})')
plt.legend()
plt.show()

# Cell 5: Advanced Usage with Focused Detection
# Use the best feature only (discovered through optimization)
focused_scores = detector.detect_anomalies_focused(result, events)
focused_auc = roc_auc_score(labels, focused_scores)
print(f"Focused detection AUC: {focused_auc:.4f}")

# Top anomalies
top_10 = np.argsort(focused_scores)[-10:]
print(f"\nTop 10 detected anomalies: {top_10}")
print(f"Correct detections: {np.sum(labels[top_10])}/10")